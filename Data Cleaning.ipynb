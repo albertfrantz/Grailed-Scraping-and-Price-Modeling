{
 "cells": [
  {
   "cell_type": "markdown",
   "metadata": {},
   "source": [
    "# Data cleaning\n",
    "\n",
    "### This notebook goes through the datacleaning process"
   ]
  },
  {
   "cell_type": "code",
   "execution_count": 548,
   "metadata": {},
   "outputs": [],
   "source": [
    "# imports\n",
    "import pandas as pd\n",
    "import numpy as np"
   ]
  },
  {
   "cell_type": "code",
   "execution_count": 549,
   "metadata": {},
   "outputs": [],
   "source": [
    "# reading in the data frames\n",
    "df = pd.read_csv('item_desc_6.csv', index_col=[0])"
   ]
  },
  {
   "cell_type": "code",
   "execution_count": 550,
   "metadata": {
    "scrolled": true
   },
   "outputs": [
    {
     "data": {
      "text/html": [
       "<div>\n",
       "<style scoped>\n",
       "    .dataframe tbody tr th:only-of-type {\n",
       "        vertical-align: middle;\n",
       "    }\n",
       "\n",
       "    .dataframe tbody tr th {\n",
       "        vertical-align: top;\n",
       "    }\n",
       "\n",
       "    .dataframe thead th {\n",
       "        text-align: right;\n",
       "    }\n",
       "</style>\n",
       "<table border=\"1\" class=\"dataframe\">\n",
       "  <thead>\n",
       "    <tr style=\"text-align: right;\">\n",
       "      <th></th>\n",
       "      <th>username</th>\n",
       "      <th>sold_price</th>\n",
       "      <th>designer</th>\n",
       "      <th>category</th>\n",
       "      <th>description</th>\n",
       "      <th>sub_title</th>\n",
       "      <th>image_count</th>\n",
       "      <th>size_color_cond</th>\n",
       "      <th>feedback_count</th>\n",
       "      <th>link</th>\n",
       "    </tr>\n",
       "  </thead>\n",
       "  <tbody>\n",
       "    <tr>\n",
       "      <th>0</th>\n",
       "      <td>jollytyler</td>\n",
       "      <td>$285 (Sold Price)</td>\n",
       "      <td>Soulive</td>\n",
       "      <td>Soulive Light Jackets</td>\n",
       "      <td>Features an allover indigo bandana patchwork d...</td>\n",
       "      <td>Patchwork Bandana Mercury Jacket Visvim ICT</td>\n",
       "      <td>14</td>\n",
       "      <td>Size: US L / EU 52-54 / 3 Color: Indigo Condi...</td>\n",
       "      <td>268 Feedback</td>\n",
       "      <td>https://www.grailed.com/listings/19144426-soul...</td>\n",
       "    </tr>\n",
       "    <tr>\n",
       "      <th>1</th>\n",
       "      <td>eWarbs</td>\n",
       "      <td>$135 (Sold Price)</td>\n",
       "      <td>Soulive</td>\n",
       "      <td>Soulive Light Jackets</td>\n",
       "      <td>Amazing patchwork denim jacket with western bu...</td>\n",
       "      <td>Soulive Denim Kimono Jacket</td>\n",
       "      <td>12</td>\n",
       "      <td>Size: US L / EU 52-54 / 3 Color: Blue Conditi...</td>\n",
       "      <td>19 Feedback</td>\n",
       "      <td>https://www.grailed.com/listings/18632785-soul...</td>\n",
       "    </tr>\n",
       "    <tr>\n",
       "      <th>2</th>\n",
       "      <td>RX7</td>\n",
       "      <td>$310 (Sold Price)</td>\n",
       "      <td>Soulive</td>\n",
       "      <td>Soulive Light Jackets</td>\n",
       "      <td>Great condition\\nNo flaws\\nBlanket lined to ke...</td>\n",
       "      <td>Kimono jacket tan brown navy blue made japan c...</td>\n",
       "      <td>4</td>\n",
       "      <td>Size: US L / EU 52-54 / 3 Color: Brown Condit...</td>\n",
       "      <td>470 Feedback</td>\n",
       "      <td>https://www.grailed.com/listings/17749036-soul...</td>\n",
       "    </tr>\n",
       "    <tr>\n",
       "      <th>3</th>\n",
       "      <td>ShinjiNakamura</td>\n",
       "      <td>$259 (Sold Price)</td>\n",
       "      <td>Soulive</td>\n",
       "      <td>Soulive Denim Jackets</td>\n",
       "      <td>BLX14-01614\\nA model that updated the SOULIVE ...</td>\n",
       "      <td>Soulive Western Haori indigo - M/L - New</td>\n",
       "      <td>5</td>\n",
       "      <td>Size: US L / EU 52-54 / 3</td>\n",
       "      <td>NaN</td>\n",
       "      <td>https://www.grailed.com/listings/15026333-soul...</td>\n",
       "    </tr>\n",
       "    <tr>\n",
       "      <th>4</th>\n",
       "      <td>lilspookymane</td>\n",
       "      <td>$85 (Sold Price)</td>\n",
       "      <td>Blue Owl x Soulive</td>\n",
       "      <td>Blue Owl Casual Pants</td>\n",
       "      <td>Size 2. Great condition. Worn less than 5 time...</td>\n",
       "      <td>Sashiko Hakama Pants - Indigo</td>\n",
       "      <td>4</td>\n",
       "      <td>Size: US 32 / EU 48 Color: Indigo Condition: ...</td>\n",
       "      <td>66 Feedback</td>\n",
       "      <td>https://www.grailed.com/listings/15757935-blue...</td>\n",
       "    </tr>\n",
       "  </tbody>\n",
       "</table>\n",
       "</div>"
      ],
      "text/plain": [
       "         username         sold_price            designer  \\\n",
       "0      jollytyler  $285 (Sold Price)             Soulive   \n",
       "1          eWarbs  $135 (Sold Price)             Soulive   \n",
       "2             RX7  $310 (Sold Price)             Soulive   \n",
       "3  ShinjiNakamura  $259 (Sold Price)             Soulive   \n",
       "4   lilspookymane   $85 (Sold Price)  Blue Owl x Soulive   \n",
       "\n",
       "                category                                        description  \\\n",
       "0  Soulive Light Jackets  Features an allover indigo bandana patchwork d...   \n",
       "1  Soulive Light Jackets  Amazing patchwork denim jacket with western bu...   \n",
       "2  Soulive Light Jackets  Great condition\\nNo flaws\\nBlanket lined to ke...   \n",
       "3  Soulive Denim Jackets  BLX14-01614\\nA model that updated the SOULIVE ...   \n",
       "4  Blue Owl Casual Pants  Size 2. Great condition. Worn less than 5 time...   \n",
       "\n",
       "                                           sub_title  image_count  \\\n",
       "0        Patchwork Bandana Mercury Jacket Visvim ICT           14   \n",
       "1                        Soulive Denim Kimono Jacket           12   \n",
       "2  Kimono jacket tan brown navy blue made japan c...            4   \n",
       "3           Soulive Western Haori indigo - M/L - New            5   \n",
       "4                      Sashiko Hakama Pants - Indigo            4   \n",
       "\n",
       "                                     size_color_cond feedback_count  \\\n",
       "0   Size: US L / EU 52-54 / 3 Color: Indigo Condi...   268 Feedback   \n",
       "1   Size: US L / EU 52-54 / 3 Color: Blue Conditi...    19 Feedback   \n",
       "2   Size: US L / EU 52-54 / 3 Color: Brown Condit...   470 Feedback   \n",
       "3                          Size: US L / EU 52-54 / 3            NaN   \n",
       "4   Size: US 32 / EU 48 Color: Indigo Condition: ...    66 Feedback   \n",
       "\n",
       "                                                link  \n",
       "0  https://www.grailed.com/listings/19144426-soul...  \n",
       "1  https://www.grailed.com/listings/18632785-soul...  \n",
       "2  https://www.grailed.com/listings/17749036-soul...  \n",
       "3  https://www.grailed.com/listings/15026333-soul...  \n",
       "4  https://www.grailed.com/listings/15757935-blue...  "
      ]
     },
     "execution_count": 550,
     "metadata": {},
     "output_type": "execute_result"
    }
   ],
   "source": [
    "df.head()"
   ]
  },
  {
   "cell_type": "code",
   "execution_count": 551,
   "metadata": {},
   "outputs": [
    {
     "data": {
      "text/plain": [
       "username            49\n",
       "sold_price          33\n",
       "designer            33\n",
       "category            33\n",
       "description         34\n",
       "sub_title           33\n",
       "image_count          0\n",
       "size_color_cond     33\n",
       "feedback_count     572\n",
       "link                 0\n",
       "dtype: int64"
      ]
     },
     "execution_count": 551,
     "metadata": {},
     "output_type": "execute_result"
    }
   ],
   "source": [
    "# checking for nans and empty strings\n",
    "df.isnull().sum()"
   ]
  },
  {
   "cell_type": "code",
   "execution_count": 552,
   "metadata": {},
   "outputs": [
    {
     "data": {
      "text/plain": [
       "username           object\n",
       "sold_price         object\n",
       "designer           object\n",
       "category           object\n",
       "description        object\n",
       "sub_title          object\n",
       "image_count         int64\n",
       "size_color_cond    object\n",
       "feedback_count     object\n",
       "link               object\n",
       "dtype: object"
      ]
     },
     "execution_count": 552,
     "metadata": {},
     "output_type": "execute_result"
    }
   ],
   "source": [
    "# checking datatypes\n",
    "df.dtypes"
   ]
  },
  {
   "cell_type": "markdown",
   "metadata": {},
   "source": [
    "## Cleaning up the feedback_count column\n",
    "\n",
    "1. making column a float\n",
    "2. replacing nan with 0"
   ]
  },
  {
   "cell_type": "code",
   "execution_count": 553,
   "metadata": {},
   "outputs": [],
   "source": [
    "df['feedback_count'] = df['feedback_count'].str.extract('(\\d+)').astype(float)"
   ]
  },
  {
   "cell_type": "code",
   "execution_count": 554,
   "metadata": {},
   "outputs": [],
   "source": [
    "# changing missing feedback_count to zero instead of an empty string\n",
    "df['feedback_count'] = df['feedback_count'].fillna(0)"
   ]
  },
  {
   "cell_type": "code",
   "execution_count": 555,
   "metadata": {},
   "outputs": [
    {
     "data": {
      "text/plain": [
       "0        268.0\n",
       "1         19.0\n",
       "2        470.0\n",
       "3          0.0\n",
       "4         66.0\n",
       "         ...  \n",
       "19994     46.0\n",
       "19995    109.0\n",
       "19996      3.0\n",
       "19997    204.0\n",
       "19998     14.0\n",
       "Name: feedback_count, Length: 19999, dtype: float64"
      ]
     },
     "execution_count": 555,
     "metadata": {},
     "output_type": "execute_result"
    }
   ],
   "source": [
    "df['feedback_count']"
   ]
  },
  {
   "cell_type": "markdown",
   "metadata": {},
   "source": [
    "## Dropping Remaining NANs\n",
    "\n",
    "decided that there wasnt much of a way to fix these values and there were so few overall."
   ]
  },
  {
   "cell_type": "code",
   "execution_count": 556,
   "metadata": {},
   "outputs": [],
   "source": [
    "df.dropna(inplace=True)"
   ]
  },
  {
   "cell_type": "code",
   "execution_count": 557,
   "metadata": {
    "scrolled": true
   },
   "outputs": [
    {
     "data": {
      "text/plain": [
       "username           0\n",
       "sold_price         0\n",
       "designer           0\n",
       "category           0\n",
       "description        0\n",
       "sub_title          0\n",
       "image_count        0\n",
       "size_color_cond    0\n",
       "feedback_count     0\n",
       "link               0\n",
       "dtype: int64"
      ]
     },
     "execution_count": 557,
     "metadata": {},
     "output_type": "execute_result"
    }
   ],
   "source": [
    "df.isnull().sum()"
   ]
  },
  {
   "cell_type": "markdown",
   "metadata": {},
   "source": [
    "## Cleaning up sold_price column\n",
    "\n",
    "1. cast column as a float\n",
    "2. check for an zeros or negative numbers to remove"
   ]
  },
  {
   "cell_type": "code",
   "execution_count": 558,
   "metadata": {},
   "outputs": [
    {
     "data": {
      "text/plain": [
       "0        285.0\n",
       "1        135.0\n",
       "2        310.0\n",
       "3        259.0\n",
       "4         85.0\n",
       "         ...  \n",
       "19994    235.0\n",
       "19995    175.0\n",
       "19996    140.0\n",
       "19997    230.0\n",
       "19998     59.0\n",
       "Name: sold_price, Length: 19949, dtype: float64"
      ]
     },
     "execution_count": 558,
     "metadata": {},
     "output_type": "execute_result"
    }
   ],
   "source": [
    "# changing sold_price to a float\n",
    "df['sold_price'] = df['sold_price'].str.extract('(\\d+)').astype(float)\n",
    "df['sold_price']"
   ]
  },
  {
   "cell_type": "code",
   "execution_count": 559,
   "metadata": {},
   "outputs": [
    {
     "data": {
      "text/html": [
       "<div>\n",
       "<style scoped>\n",
       "    .dataframe tbody tr th:only-of-type {\n",
       "        vertical-align: middle;\n",
       "    }\n",
       "\n",
       "    .dataframe tbody tr th {\n",
       "        vertical-align: top;\n",
       "    }\n",
       "\n",
       "    .dataframe thead th {\n",
       "        text-align: right;\n",
       "    }\n",
       "</style>\n",
       "<table border=\"1\" class=\"dataframe\">\n",
       "  <thead>\n",
       "    <tr style=\"text-align: right;\">\n",
       "      <th></th>\n",
       "      <th>username</th>\n",
       "      <th>sold_price</th>\n",
       "      <th>designer</th>\n",
       "      <th>category</th>\n",
       "      <th>description</th>\n",
       "      <th>sub_title</th>\n",
       "      <th>image_count</th>\n",
       "      <th>size_color_cond</th>\n",
       "      <th>feedback_count</th>\n",
       "      <th>link</th>\n",
       "    </tr>\n",
       "  </thead>\n",
       "  <tbody>\n",
       "  </tbody>\n",
       "</table>\n",
       "</div>"
      ],
      "text/plain": [
       "Empty DataFrame\n",
       "Columns: [username, sold_price, designer, category, description, sub_title, image_count, size_color_cond, feedback_count, link]\n",
       "Index: []"
      ]
     },
     "execution_count": 559,
     "metadata": {},
     "output_type": "execute_result"
    }
   ],
   "source": [
    "# checking for sold_price less than or equal to zero\n",
    "df[df['sold_price'] <= 0]\n",
    "# no values to remove"
   ]
  },
  {
   "cell_type": "markdown",
   "metadata": {},
   "source": [
    "## Cleaing up category column\n",
    "\n",
    "1. removing designer name from category\n",
    "2. drop rows if category contains less than 10"
   ]
  },
  {
   "cell_type": "code",
   "execution_count": 560,
   "metadata": {},
   "outputs": [],
   "source": [
    "# reseting the index given it had values dropped\n",
    "df.index = range(len(df))"
   ]
  },
  {
   "cell_type": "code",
   "execution_count": 561,
   "metadata": {
    "scrolled": true
   },
   "outputs": [],
   "source": [
    "# making sure category is a string\n",
    "df['category'] = df['category'].astype(str)"
   ]
  },
  {
   "cell_type": "code",
   "execution_count": 562,
   "metadata": {},
   "outputs": [],
   "source": [
    "# making sure designer is a string\n",
    "df['designer'] = df['designer'].astype(str)"
   ]
  },
  {
   "cell_type": "code",
   "execution_count": 563,
   "metadata": {},
   "outputs": [],
   "source": [
    "# function to replace designers in category column with empty string leaving only the item category\n",
    "def replace_designer(row):\n",
    "    words = df['designer'][row].split() # splitting the designer into multple words incase multiple designers are present\n",
    "    for word in words:\n",
    "        if word in df['category'][row]:\n",
    "            df['category'][row] = df['category'][row].replace(word,'') # goes through each word and replaces with empty string if present\n",
    "    return df['category'][row].strip()"
   ]
  },
  {
   "cell_type": "code",
   "execution_count": 564,
   "metadata": {},
   "outputs": [
    {
     "name": "stderr",
     "output_type": "stream",
     "text": [
      "<ipython-input-563-8bd2803f4eaa>:6: SettingWithCopyWarning: \n",
      "A value is trying to be set on a copy of a slice from a DataFrame\n",
      "\n",
      "See the caveats in the documentation: https://pandas.pydata.org/pandas-docs/stable/user_guide/indexing.html#returning-a-view-versus-a-copy\n",
      "  df['category'][row] = df['category'][row].replace(word,'') # goes through each word and replaces with empty string if present\n"
     ]
    }
   ],
   "source": [
    "# using function on all data to remove designer from category\n",
    "for i in range(len(df['category'])):\n",
    "    replace_designer(i)"
   ]
  },
  {
   "cell_type": "code",
   "execution_count": 565,
   "metadata": {},
   "outputs": [],
   "source": [
    "# dropping all rows if category count is less than 10\n",
    "df = df.groupby('category').filter(lambda x : len(x)>10)"
   ]
  },
  {
   "cell_type": "markdown",
   "metadata": {},
   "source": [
    "## Cleaning up size_color_condition column\n",
    "\n",
    "1. create a column for size\n",
    "2. create a column for color\n",
    "3. create a column for condition\n",
    "4. drop all rows that all 3 columns could not be created"
   ]
  },
  {
   "cell_type": "code",
   "execution_count": 566,
   "metadata": {},
   "outputs": [],
   "source": [
    "# resetting the index\n",
    "df.index = range(len(df))"
   ]
  },
  {
   "cell_type": "code",
   "execution_count": 568,
   "metadata": {},
   "outputs": [],
   "source": [
    "# extracting the size into a new size column\n",
    "def get_size(row):\n",
    "    words = df['size_color_cond'][row]\n",
    "    try:\n",
    "        df['size'][row] = words[words.find('Size:'):words.find('Color:')].replace('Size:', '').strip() # will find all things after size\n",
    "    except: \n",
    "        df['size'][row] = np.nan\n",
    "    return df['size'][row]"
   ]
  },
  {
   "cell_type": "code",
   "execution_count": 569,
   "metadata": {
    "scrolled": true
   },
   "outputs": [
    {
     "name": "stderr",
     "output_type": "stream",
     "text": [
      "<ipython-input-568-3cca5f246ac1>:4: SettingWithCopyWarning: \n",
      "A value is trying to be set on a copy of a slice from a DataFrame\n",
      "\n",
      "See the caveats in the documentation: https://pandas.pydata.org/pandas-docs/stable/user_guide/indexing.html#returning-a-view-versus-a-copy\n",
      "  df['size'][row] = words[words.find('Size:'):words.find('Color:')].replace('Size:', '').strip()\n",
      "C:\\Users\\frantzal\\Anaconda3\\lib\\site-packages\\pandas\\core\\indexing.py:670: SettingWithCopyWarning: \n",
      "A value is trying to be set on a copy of a slice from a DataFrame\n",
      "\n",
      "See the caveats in the documentation: https://pandas.pydata.org/pandas-docs/stable/user_guide/indexing.html#returning-a-view-versus-a-copy\n",
      "  iloc._setitem_with_indexer(indexer, value)\n"
     ]
    }
   ],
   "source": [
    "# applying get_size to all rows\n",
    "df['size'] = 0\n",
    "for i in range(len(df['size_color_cond'])):\n",
    "    get_size(i)"
   ]
  },
  {
   "cell_type": "code",
   "execution_count": 570,
   "metadata": {},
   "outputs": [],
   "source": [
    "# extracting the color into a new color column\n",
    "def get_color(row):\n",
    "    words = df['size_color_cond'][row] # splitting the designer into multple words incase multiple designers are present\n",
    "    try:\n",
    "        df['color'][row] = words[words.find('Color:'):words.find('Condition:')].replace('Color:', '').strip()\n",
    "    except:\n",
    "        df['color'][row] = np.nan\n",
    "    return df['color'][row]"
   ]
  },
  {
   "cell_type": "code",
   "execution_count": 571,
   "metadata": {},
   "outputs": [
    {
     "name": "stderr",
     "output_type": "stream",
     "text": [
      "<ipython-input-570-beaff590a6ba>:4: SettingWithCopyWarning: \n",
      "A value is trying to be set on a copy of a slice from a DataFrame\n",
      "\n",
      "See the caveats in the documentation: https://pandas.pydata.org/pandas-docs/stable/user_guide/indexing.html#returning-a-view-versus-a-copy\n",
      "  df['color'][row] = words[words.find('Color:'):words.find('Condition:')].replace('Color:', '').strip()\n"
     ]
    }
   ],
   "source": [
    "# applying get_color to all rows\n",
    "df['color'] = 'none'\n",
    "for i in range(len(df['size_color_cond'])):\n",
    "    get_color(i)"
   ]
  },
  {
   "cell_type": "code",
   "execution_count": 572,
   "metadata": {},
   "outputs": [],
   "source": [
    "# extracting the condition into a new condition column\n",
    "def get_condition(row):\n",
    "    words = df['size_color_cond'][row] \n",
    "    try:\n",
    "        df['condition'][row] = words[words.find('Condition:')::].replace('Condition:', '').strip()\n",
    "    except:\n",
    "        df['condition'][row] = np.nan\n",
    "    return df['condition'][row]"
   ]
  },
  {
   "cell_type": "code",
   "execution_count": 573,
   "metadata": {},
   "outputs": [
    {
     "name": "stderr",
     "output_type": "stream",
     "text": [
      "<ipython-input-572-5710c0b43092>:4: SettingWithCopyWarning: \n",
      "A value is trying to be set on a copy of a slice from a DataFrame\n",
      "\n",
      "See the caveats in the documentation: https://pandas.pydata.org/pandas-docs/stable/user_guide/indexing.html#returning-a-view-versus-a-copy\n",
      "  df['condition'][row] = words[words.find('Condition:')::].replace('Condition:', '').strip()\n"
     ]
    }
   ],
   "source": [
    "# applying get_condition to all rows\n",
    "df['condition'] = 'none'\n",
    "for i in range(len(df['size_color_cond'])):\n",
    "    get_condition(i)"
   ]
  },
  {
   "cell_type": "code",
   "execution_count": 575,
   "metadata": {},
   "outputs": [],
   "source": [
    "# replacing empty strings with nan\n",
    "df.replace(r'^\\s*$', np.nan, regex=True, inplace = True)"
   ]
  },
  {
   "cell_type": "code",
   "execution_count": 576,
   "metadata": {},
   "outputs": [],
   "source": [
    "# dropping rows that did not have all 3 categories, size color and condition\n",
    "df.dropna(inplace=True)"
   ]
  },
  {
   "cell_type": "markdown",
   "metadata": {},
   "source": [
    "## Cleaning up description column\n",
    "\n",
    "1. remove new lines (\\n) from description"
   ]
  },
  {
   "cell_type": "code",
   "execution_count": 578,
   "metadata": {},
   "outputs": [],
   "source": [
    "# replacing \\n with a space\n",
    "df['description'] = df['description'].replace('\\n',' ',regex=True)"
   ]
  },
  {
   "cell_type": "markdown",
   "metadata": {},
   "source": [
    "## Cleaning up designer column"
   ]
  },
  {
   "cell_type": "code",
   "execution_count": 583,
   "metadata": {},
   "outputs": [],
   "source": [
    "# resetting the index\n",
    "df.index = range(len(df))"
   ]
  },
  {
   "cell_type": "code",
   "execution_count": 609,
   "metadata": {},
   "outputs": [],
   "source": [
    "# function to change coloborations into one designer\n",
    "def one_designer(row):\n",
    "    word = df['designer'][row]\n",
    "    words = word.split() \n",
    "    if 'x' in words:\n",
    "        df['designer'][row] = df['designer'][row][:word.index('x')].strip() # if x is in the designer name will only return first designer\n",
    "    return df['designer'][row]"
   ]
  },
  {
   "cell_type": "code",
   "execution_count": 611,
   "metadata": {},
   "outputs": [
    {
     "name": "stderr",
     "output_type": "stream",
     "text": [
      "<ipython-input-609-0da5feab6913>:6: SettingWithCopyWarning: \n",
      "A value is trying to be set on a copy of a slice from a DataFrame\n",
      "\n",
      "See the caveats in the documentation: https://pandas.pydata.org/pandas-docs/stable/user_guide/indexing.html#returning-a-view-versus-a-copy\n",
      "  df['designer'][row] = df['designer'][row][:word.index('x')].strip() # if x is in the designer name will only return first designer\n"
     ]
    }
   ],
   "source": [
    "# applyng one_designer to all rows\n",
    "for i in range(len(df['designer'])):\n",
    "    one_designer(i)"
   ]
  },
  {
   "cell_type": "markdown",
   "metadata": {},
   "source": [
    "## Final Dataframe"
   ]
  },
  {
   "cell_type": "code",
   "execution_count": 616,
   "metadata": {},
   "outputs": [],
   "source": [
    "# dropping duplicates\n",
    "df.drop_duplicates(inplace=True)"
   ]
  },
  {
   "cell_type": "code",
   "execution_count": 617,
   "metadata": {},
   "outputs": [
    {
     "data": {
      "text/html": [
       "<div>\n",
       "<style scoped>\n",
       "    .dataframe tbody tr th:only-of-type {\n",
       "        vertical-align: middle;\n",
       "    }\n",
       "\n",
       "    .dataframe tbody tr th {\n",
       "        vertical-align: top;\n",
       "    }\n",
       "\n",
       "    .dataframe thead th {\n",
       "        text-align: right;\n",
       "    }\n",
       "</style>\n",
       "<table border=\"1\" class=\"dataframe\">\n",
       "  <thead>\n",
       "    <tr style=\"text-align: right;\">\n",
       "      <th></th>\n",
       "      <th>username</th>\n",
       "      <th>sold_price</th>\n",
       "      <th>designer</th>\n",
       "      <th>category</th>\n",
       "      <th>description</th>\n",
       "      <th>sub_title</th>\n",
       "      <th>image_count</th>\n",
       "      <th>size_color_cond</th>\n",
       "      <th>feedback_count</th>\n",
       "      <th>link</th>\n",
       "      <th>size</th>\n",
       "      <th>color</th>\n",
       "      <th>condition</th>\n",
       "    </tr>\n",
       "  </thead>\n",
       "  <tbody>\n",
       "    <tr>\n",
       "      <th>0</th>\n",
       "      <td>jollytyler</td>\n",
       "      <td>285.0</td>\n",
       "      <td>Soulive</td>\n",
       "      <td>Light Jackets</td>\n",
       "      <td>Features an allover indigo bandana patchwork d...</td>\n",
       "      <td>Patchwork Bandana Mercury Jacket Visvim ICT</td>\n",
       "      <td>14</td>\n",
       "      <td>Size: US L / EU 52-54 / 3 Color: Indigo Condi...</td>\n",
       "      <td>268.0</td>\n",
       "      <td>https://www.grailed.com/listings/19144426-soul...</td>\n",
       "      <td>US L / EU 52-54 / 3</td>\n",
       "      <td>Indigo</td>\n",
       "      <td>New</td>\n",
       "    </tr>\n",
       "    <tr>\n",
       "      <th>1</th>\n",
       "      <td>eWarbs</td>\n",
       "      <td>135.0</td>\n",
       "      <td>Soulive</td>\n",
       "      <td>Light Jackets</td>\n",
       "      <td>Amazing patchwork denim jacket with western bu...</td>\n",
       "      <td>Soulive Denim Kimono Jacket</td>\n",
       "      <td>12</td>\n",
       "      <td>Size: US L / EU 52-54 / 3 Color: Blue Conditi...</td>\n",
       "      <td>19.0</td>\n",
       "      <td>https://www.grailed.com/listings/18632785-soul...</td>\n",
       "      <td>US L / EU 52-54 / 3</td>\n",
       "      <td>Blue</td>\n",
       "      <td>Gently used</td>\n",
       "    </tr>\n",
       "    <tr>\n",
       "      <th>2</th>\n",
       "      <td>RX7</td>\n",
       "      <td>310.0</td>\n",
       "      <td>Soulive</td>\n",
       "      <td>Light Jackets</td>\n",
       "      <td>Great condition No flaws Blanket lined to keep...</td>\n",
       "      <td>Kimono jacket tan brown navy blue made japan c...</td>\n",
       "      <td>4</td>\n",
       "      <td>Size: US L / EU 52-54 / 3 Color: Brown Condit...</td>\n",
       "      <td>470.0</td>\n",
       "      <td>https://www.grailed.com/listings/17749036-soul...</td>\n",
       "      <td>US L / EU 52-54 / 3</td>\n",
       "      <td>Brown</td>\n",
       "      <td>Gently used</td>\n",
       "    </tr>\n",
       "    <tr>\n",
       "      <th>3</th>\n",
       "      <td>lilspookymane</td>\n",
       "      <td>85.0</td>\n",
       "      <td>Blue Owl</td>\n",
       "      <td>Casual Pants</td>\n",
       "      <td>Size 2. Great condition. Worn less than 5 time...</td>\n",
       "      <td>Sashiko Hakama Pants - Indigo</td>\n",
       "      <td>4</td>\n",
       "      <td>Size: US 32 / EU 48 Color: Indigo Condition: ...</td>\n",
       "      <td>66.0</td>\n",
       "      <td>https://www.grailed.com/listings/15757935-blue...</td>\n",
       "      <td>US 32 / EU 48</td>\n",
       "      <td>Indigo</td>\n",
       "      <td>Gently used</td>\n",
       "    </tr>\n",
       "    <tr>\n",
       "      <th>4</th>\n",
       "      <td>hsoandso</td>\n",
       "      <td>127.0</td>\n",
       "      <td>Soulive</td>\n",
       "      <td>Light Jackets</td>\n",
       "      <td>This Soulive Grand Haori jacket is like a vint...</td>\n",
       "      <td>Soulive Grand Haori jacket</td>\n",
       "      <td>6</td>\n",
       "      <td>Size: US M / EU 48-50 / 2 Color: Olive Condit...</td>\n",
       "      <td>1.0</td>\n",
       "      <td>https://www.grailed.com/listings/17286776-soul...</td>\n",
       "      <td>US M / EU 48-50 / 2</td>\n",
       "      <td>Olive</td>\n",
       "      <td>Gently used</td>\n",
       "    </tr>\n",
       "    <tr>\n",
       "      <th>...</th>\n",
       "      <td>...</td>\n",
       "      <td>...</td>\n",
       "      <td>...</td>\n",
       "      <td>...</td>\n",
       "      <td>...</td>\n",
       "      <td>...</td>\n",
       "      <td>...</td>\n",
       "      <td>...</td>\n",
       "      <td>...</td>\n",
       "      <td>...</td>\n",
       "      <td>...</td>\n",
       "      <td>...</td>\n",
       "      <td>...</td>\n",
       "    </tr>\n",
       "    <tr>\n",
       "      <th>14821</th>\n",
       "      <td>Arbitrage</td>\n",
       "      <td>235.0</td>\n",
       "      <td>Oliver Peoples</td>\n",
       "      <td>Sunglasses</td>\n",
       "      <td>This Item Retailed for $510 Oliver Peoples Has...</td>\n",
       "      <td>O'Malley NYC OG Tortoise 48MM</td>\n",
       "      <td>9</td>\n",
       "      <td>Size: ONE SIZE Color: Tortoise Condition: New</td>\n",
       "      <td>46.0</td>\n",
       "      <td>https://www.grailed.com/listings/10797211-oliv...</td>\n",
       "      <td>ONE SIZE</td>\n",
       "      <td>Tortoise</td>\n",
       "      <td>New</td>\n",
       "    </tr>\n",
       "    <tr>\n",
       "      <th>14822</th>\n",
       "      <td>smittysan8970</td>\n",
       "      <td>175.0</td>\n",
       "      <td>The Row</td>\n",
       "      <td>Sunglasses</td>\n",
       "      <td>MSRP $510 9/10 condition - peep the photos Cle...</td>\n",
       "      <td>Oliver Peoples x The Row Board Meeting 2 Squar...</td>\n",
       "      <td>11</td>\n",
       "      <td>Size: ONE SIZE Color: Gold Condition: Gently ...</td>\n",
       "      <td>109.0</td>\n",
       "      <td>https://www.grailed.com/listings/10979242-the-...</td>\n",
       "      <td>ONE SIZE</td>\n",
       "      <td>Gold</td>\n",
       "      <td>Gently used</td>\n",
       "    </tr>\n",
       "    <tr>\n",
       "      <th>14823</th>\n",
       "      <td>LukasLukas</td>\n",
       "      <td>140.0</td>\n",
       "      <td>The Row</td>\n",
       "      <td>Casual Pants</td>\n",
       "      <td>Beautiful off white The Row pants, super flowi...</td>\n",
       "      <td>The Row off white pants</td>\n",
       "      <td>4</td>\n",
       "      <td>Size: US 28 / EU 44 Color: Off white Conditio...</td>\n",
       "      <td>3.0</td>\n",
       "      <td>https://www.grailed.com/listings/10323649-the-...</td>\n",
       "      <td>US 28 / EU 44</td>\n",
       "      <td>Off white</td>\n",
       "      <td>Gently used</td>\n",
       "    </tr>\n",
       "    <tr>\n",
       "      <th>14824</th>\n",
       "      <td>fractors</td>\n",
       "      <td>230.0</td>\n",
       "      <td>The Row</td>\n",
       "      <td>Polos</td>\n",
       "      <td>SS19 super fine black cotton long sleeve, exte...</td>\n",
       "      <td>Black Cotton Long Sleeve Polo</td>\n",
       "      <td>4</td>\n",
       "      <td>Size: US L / EU 52-54 / 3 Color: Black Condit...</td>\n",
       "      <td>204.0</td>\n",
       "      <td>https://www.grailed.com/listings/10289762-the-...</td>\n",
       "      <td>US L / EU 52-54 / 3</td>\n",
       "      <td>Black</td>\n",
       "      <td>New</td>\n",
       "    </tr>\n",
       "    <tr>\n",
       "      <th>14825</th>\n",
       "      <td>offthecuff</td>\n",
       "      <td>59.0</td>\n",
       "      <td>The Row</td>\n",
       "      <td>Sweaters &amp; Knitwear</td>\n",
       "      <td>Overall in good condition with light wear. The...</td>\n",
       "      <td>Women's The Row 100% Cashmere Mock Neck Crewne...</td>\n",
       "      <td>2</td>\n",
       "      <td>Size: US S / EU 44-46 / 1 Color: Off white Co...</td>\n",
       "      <td>14.0</td>\n",
       "      <td>https://www.grailed.com/listings/10611408-the-...</td>\n",
       "      <td>US S / EU 44-46 / 1</td>\n",
       "      <td>Off white</td>\n",
       "      <td>Gently used</td>\n",
       "    </tr>\n",
       "  </tbody>\n",
       "</table>\n",
       "<p>14826 rows × 13 columns</p>\n",
       "</div>"
      ],
      "text/plain": [
       "            username  sold_price        designer               category  \\\n",
       "0         jollytyler       285.0         Soulive          Light Jackets   \n",
       "1             eWarbs       135.0         Soulive          Light Jackets   \n",
       "2                RX7       310.0         Soulive          Light Jackets   \n",
       "3      lilspookymane        85.0        Blue Owl           Casual Pants   \n",
       "4           hsoandso       127.0         Soulive          Light Jackets   \n",
       "...              ...         ...             ...                    ...   \n",
       "14821      Arbitrage       235.0  Oliver Peoples             Sunglasses   \n",
       "14822  smittysan8970       175.0         The Row             Sunglasses   \n",
       "14823     LukasLukas       140.0         The Row           Casual Pants   \n",
       "14824       fractors       230.0         The Row                  Polos   \n",
       "14825     offthecuff        59.0         The Row    Sweaters & Knitwear   \n",
       "\n",
       "                                             description  \\\n",
       "0      Features an allover indigo bandana patchwork d...   \n",
       "1      Amazing patchwork denim jacket with western bu...   \n",
       "2      Great condition No flaws Blanket lined to keep...   \n",
       "3      Size 2. Great condition. Worn less than 5 time...   \n",
       "4      This Soulive Grand Haori jacket is like a vint...   \n",
       "...                                                  ...   \n",
       "14821  This Item Retailed for $510 Oliver Peoples Has...   \n",
       "14822  MSRP $510 9/10 condition - peep the photos Cle...   \n",
       "14823  Beautiful off white The Row pants, super flowi...   \n",
       "14824  SS19 super fine black cotton long sleeve, exte...   \n",
       "14825  Overall in good condition with light wear. The...   \n",
       "\n",
       "                                               sub_title  image_count  \\\n",
       "0            Patchwork Bandana Mercury Jacket Visvim ICT           14   \n",
       "1                            Soulive Denim Kimono Jacket           12   \n",
       "2      Kimono jacket tan brown navy blue made japan c...            4   \n",
       "3                          Sashiko Hakama Pants - Indigo            4   \n",
       "4                             Soulive Grand Haori jacket            6   \n",
       "...                                                  ...          ...   \n",
       "14821                      O'Malley NYC OG Tortoise 48MM            9   \n",
       "14822  Oliver Peoples x The Row Board Meeting 2 Squar...           11   \n",
       "14823                            The Row off white pants            4   \n",
       "14824                      Black Cotton Long Sleeve Polo            4   \n",
       "14825  Women's The Row 100% Cashmere Mock Neck Crewne...            2   \n",
       "\n",
       "                                         size_color_cond  feedback_count  \\\n",
       "0       Size: US L / EU 52-54 / 3 Color: Indigo Condi...           268.0   \n",
       "1       Size: US L / EU 52-54 / 3 Color: Blue Conditi...            19.0   \n",
       "2       Size: US L / EU 52-54 / 3 Color: Brown Condit...           470.0   \n",
       "3       Size: US 32 / EU 48 Color: Indigo Condition: ...            66.0   \n",
       "4       Size: US M / EU 48-50 / 2 Color: Olive Condit...             1.0   \n",
       "...                                                  ...             ...   \n",
       "14821      Size: ONE SIZE Color: Tortoise Condition: New            46.0   \n",
       "14822   Size: ONE SIZE Color: Gold Condition: Gently ...           109.0   \n",
       "14823   Size: US 28 / EU 44 Color: Off white Conditio...             3.0   \n",
       "14824   Size: US L / EU 52-54 / 3 Color: Black Condit...           204.0   \n",
       "14825   Size: US S / EU 44-46 / 1 Color: Off white Co...            14.0   \n",
       "\n",
       "                                                    link                 size  \\\n",
       "0      https://www.grailed.com/listings/19144426-soul...  US L / EU 52-54 / 3   \n",
       "1      https://www.grailed.com/listings/18632785-soul...  US L / EU 52-54 / 3   \n",
       "2      https://www.grailed.com/listings/17749036-soul...  US L / EU 52-54 / 3   \n",
       "3      https://www.grailed.com/listings/15757935-blue...        US 32 / EU 48   \n",
       "4      https://www.grailed.com/listings/17286776-soul...  US M / EU 48-50 / 2   \n",
       "...                                                  ...                  ...   \n",
       "14821  https://www.grailed.com/listings/10797211-oliv...             ONE SIZE   \n",
       "14822  https://www.grailed.com/listings/10979242-the-...             ONE SIZE   \n",
       "14823  https://www.grailed.com/listings/10323649-the-...        US 28 / EU 44   \n",
       "14824  https://www.grailed.com/listings/10289762-the-...  US L / EU 52-54 / 3   \n",
       "14825  https://www.grailed.com/listings/10611408-the-...  US S / EU 44-46 / 1   \n",
       "\n",
       "           color    condition  \n",
       "0         Indigo          New  \n",
       "1           Blue  Gently used  \n",
       "2          Brown  Gently used  \n",
       "3         Indigo  Gently used  \n",
       "4          Olive  Gently used  \n",
       "...          ...          ...  \n",
       "14821   Tortoise          New  \n",
       "14822       Gold  Gently used  \n",
       "14823  Off white  Gently used  \n",
       "14824      Black          New  \n",
       "14825  Off white  Gently used  \n",
       "\n",
       "[14826 rows x 13 columns]"
      ]
     },
     "execution_count": 617,
     "metadata": {},
     "output_type": "execute_result"
    }
   ],
   "source": [
    "df"
   ]
  },
  {
   "cell_type": "code",
   "execution_count": null,
   "metadata": {},
   "outputs": [],
   "source": []
  }
 ],
 "metadata": {
  "kernelspec": {
   "display_name": "Python 3",
   "language": "python",
   "name": "python3"
  },
  "language_info": {
   "codemirror_mode": {
    "name": "ipython",
    "version": 3
   },
   "file_extension": ".py",
   "mimetype": "text/x-python",
   "name": "python",
   "nbconvert_exporter": "python",
   "pygments_lexer": "ipython3",
   "version": "3.8.5"
  }
 },
 "nbformat": 4,
 "nbformat_minor": 4
}
